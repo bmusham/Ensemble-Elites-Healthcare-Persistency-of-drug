{
 "cells": [
  {
   "cell_type": "markdown",
   "id": "8d56fac6",
   "metadata": {},
   "source": [
    "## Healthcare project - Persistency of a drug"
   ]
  },
  {
   "cell_type": "markdown",
   "id": "44751aa8",
   "metadata": {},
   "source": [
    "### Import libraries"
   ]
  },
  {
   "cell_type": "code",
   "execution_count": 73,
   "id": "4775842b",
   "metadata": {},
   "outputs": [],
   "source": [
    "import pandas as pd\n",
    "import numpy as np\n",
    "import matplotlib.pyplot as plt\n",
    "import seaborn as sns\n",
    "import plotly.express as px\n",
    "import scipy.stats as stats\n",
    "import warnings\n",
    "import datetime\n",
    "import calendar\n",
    "from datetime import date, timedelta\n",
    "warnings.filterwarnings(\"ignore\")\n",
    "import calendar"
   ]
  },
  {
   "cell_type": "markdown",
   "id": "4a807753",
   "metadata": {},
   "source": [
    "### Load the dataset"
   ]
  },
  {
   "cell_type": "code",
   "execution_count": 74,
   "id": "1ccc1dfa",
   "metadata": {},
   "outputs": [
    {
     "data": {
      "text/html": [
       "<div>\n",
       "<style scoped>\n",
       "    .dataframe tbody tr th:only-of-type {\n",
       "        vertical-align: middle;\n",
       "    }\n",
       "\n",
       "    .dataframe tbody tr th {\n",
       "        vertical-align: top;\n",
       "    }\n",
       "\n",
       "    .dataframe thead th {\n",
       "        text-align: right;\n",
       "    }\n",
       "</style>\n",
       "<table border=\"1\" class=\"dataframe\">\n",
       "  <thead>\n",
       "    <tr style=\"text-align: right;\">\n",
       "      <th></th>\n",
       "      <th>Ptid</th>\n",
       "      <th>Persistency_Flag</th>\n",
       "      <th>Gender</th>\n",
       "      <th>Race</th>\n",
       "      <th>Ethnicity</th>\n",
       "      <th>Region</th>\n",
       "      <th>Age_Bucket</th>\n",
       "      <th>Ntm_Speciality</th>\n",
       "      <th>Ntm_Specialist_Flag</th>\n",
       "      <th>Ntm_Speciality_Bucket</th>\n",
       "      <th>...</th>\n",
       "      <th>Risk_Family_History_Of_Osteoporosis</th>\n",
       "      <th>Risk_Low_Calcium_Intake</th>\n",
       "      <th>Risk_Vitamin_D_Insufficiency</th>\n",
       "      <th>Risk_Poor_Health_Frailty</th>\n",
       "      <th>Risk_Excessive_Thinness</th>\n",
       "      <th>Risk_Hysterectomy_Oophorectomy</th>\n",
       "      <th>Risk_Estrogen_Deficiency</th>\n",
       "      <th>Risk_Immobilization</th>\n",
       "      <th>Risk_Recurring_Falls</th>\n",
       "      <th>Count_Of_Risks</th>\n",
       "    </tr>\n",
       "  </thead>\n",
       "  <tbody>\n",
       "    <tr>\n",
       "      <th>0</th>\n",
       "      <td>P1</td>\n",
       "      <td>Persistent</td>\n",
       "      <td>Male</td>\n",
       "      <td>Caucasian</td>\n",
       "      <td>Not Hispanic</td>\n",
       "      <td>West</td>\n",
       "      <td>&gt;75</td>\n",
       "      <td>GENERAL PRACTITIONER</td>\n",
       "      <td>Others</td>\n",
       "      <td>OB/GYN/Others/PCP/Unknown</td>\n",
       "      <td>...</td>\n",
       "      <td>N</td>\n",
       "      <td>N</td>\n",
       "      <td>N</td>\n",
       "      <td>N</td>\n",
       "      <td>N</td>\n",
       "      <td>N</td>\n",
       "      <td>N</td>\n",
       "      <td>N</td>\n",
       "      <td>N</td>\n",
       "      <td>0</td>\n",
       "    </tr>\n",
       "    <tr>\n",
       "      <th>1</th>\n",
       "      <td>P2</td>\n",
       "      <td>Non-Persistent</td>\n",
       "      <td>Male</td>\n",
       "      <td>Asian</td>\n",
       "      <td>Not Hispanic</td>\n",
       "      <td>West</td>\n",
       "      <td>55-65</td>\n",
       "      <td>GENERAL PRACTITIONER</td>\n",
       "      <td>Others</td>\n",
       "      <td>OB/GYN/Others/PCP/Unknown</td>\n",
       "      <td>...</td>\n",
       "      <td>N</td>\n",
       "      <td>N</td>\n",
       "      <td>N</td>\n",
       "      <td>N</td>\n",
       "      <td>N</td>\n",
       "      <td>N</td>\n",
       "      <td>N</td>\n",
       "      <td>N</td>\n",
       "      <td>N</td>\n",
       "      <td>0</td>\n",
       "    </tr>\n",
       "    <tr>\n",
       "      <th>2</th>\n",
       "      <td>P3</td>\n",
       "      <td>Non-Persistent</td>\n",
       "      <td>Female</td>\n",
       "      <td>Other/Unknown</td>\n",
       "      <td>Hispanic</td>\n",
       "      <td>Midwest</td>\n",
       "      <td>65-75</td>\n",
       "      <td>GENERAL PRACTITIONER</td>\n",
       "      <td>Others</td>\n",
       "      <td>OB/GYN/Others/PCP/Unknown</td>\n",
       "      <td>...</td>\n",
       "      <td>N</td>\n",
       "      <td>Y</td>\n",
       "      <td>N</td>\n",
       "      <td>N</td>\n",
       "      <td>N</td>\n",
       "      <td>N</td>\n",
       "      <td>N</td>\n",
       "      <td>N</td>\n",
       "      <td>N</td>\n",
       "      <td>2</td>\n",
       "    </tr>\n",
       "    <tr>\n",
       "      <th>3</th>\n",
       "      <td>P4</td>\n",
       "      <td>Non-Persistent</td>\n",
       "      <td>Female</td>\n",
       "      <td>Caucasian</td>\n",
       "      <td>Not Hispanic</td>\n",
       "      <td>Midwest</td>\n",
       "      <td>&gt;75</td>\n",
       "      <td>GENERAL PRACTITIONER</td>\n",
       "      <td>Others</td>\n",
       "      <td>OB/GYN/Others/PCP/Unknown</td>\n",
       "      <td>...</td>\n",
       "      <td>N</td>\n",
       "      <td>N</td>\n",
       "      <td>N</td>\n",
       "      <td>N</td>\n",
       "      <td>N</td>\n",
       "      <td>N</td>\n",
       "      <td>N</td>\n",
       "      <td>N</td>\n",
       "      <td>N</td>\n",
       "      <td>1</td>\n",
       "    </tr>\n",
       "    <tr>\n",
       "      <th>4</th>\n",
       "      <td>P5</td>\n",
       "      <td>Non-Persistent</td>\n",
       "      <td>Female</td>\n",
       "      <td>Caucasian</td>\n",
       "      <td>Not Hispanic</td>\n",
       "      <td>Midwest</td>\n",
       "      <td>&gt;75</td>\n",
       "      <td>GENERAL PRACTITIONER</td>\n",
       "      <td>Others</td>\n",
       "      <td>OB/GYN/Others/PCP/Unknown</td>\n",
       "      <td>...</td>\n",
       "      <td>N</td>\n",
       "      <td>N</td>\n",
       "      <td>N</td>\n",
       "      <td>N</td>\n",
       "      <td>N</td>\n",
       "      <td>N</td>\n",
       "      <td>N</td>\n",
       "      <td>N</td>\n",
       "      <td>N</td>\n",
       "      <td>1</td>\n",
       "    </tr>\n",
       "  </tbody>\n",
       "</table>\n",
       "<p>5 rows × 69 columns</p>\n",
       "</div>"
      ],
      "text/plain": [
       "  Ptid Persistency_Flag  Gender           Race     Ethnicity   Region  \\\n",
       "0   P1       Persistent    Male      Caucasian  Not Hispanic     West   \n",
       "1   P2   Non-Persistent    Male          Asian  Not Hispanic     West   \n",
       "2   P3   Non-Persistent  Female  Other/Unknown      Hispanic  Midwest   \n",
       "3   P4   Non-Persistent  Female      Caucasian  Not Hispanic  Midwest   \n",
       "4   P5   Non-Persistent  Female      Caucasian  Not Hispanic  Midwest   \n",
       "\n",
       "  Age_Bucket        Ntm_Speciality Ntm_Specialist_Flag  \\\n",
       "0        >75  GENERAL PRACTITIONER              Others   \n",
       "1      55-65  GENERAL PRACTITIONER              Others   \n",
       "2      65-75  GENERAL PRACTITIONER              Others   \n",
       "3        >75  GENERAL PRACTITIONER              Others   \n",
       "4        >75  GENERAL PRACTITIONER              Others   \n",
       "\n",
       "       Ntm_Speciality_Bucket  ... Risk_Family_History_Of_Osteoporosis  \\\n",
       "0  OB/GYN/Others/PCP/Unknown  ...                                   N   \n",
       "1  OB/GYN/Others/PCP/Unknown  ...                                   N   \n",
       "2  OB/GYN/Others/PCP/Unknown  ...                                   N   \n",
       "3  OB/GYN/Others/PCP/Unknown  ...                                   N   \n",
       "4  OB/GYN/Others/PCP/Unknown  ...                                   N   \n",
       "\n",
       "  Risk_Low_Calcium_Intake  Risk_Vitamin_D_Insufficiency  \\\n",
       "0                       N                             N   \n",
       "1                       N                             N   \n",
       "2                       Y                             N   \n",
       "3                       N                             N   \n",
       "4                       N                             N   \n",
       "\n",
       "  Risk_Poor_Health_Frailty Risk_Excessive_Thinness  \\\n",
       "0                        N                       N   \n",
       "1                        N                       N   \n",
       "2                        N                       N   \n",
       "3                        N                       N   \n",
       "4                        N                       N   \n",
       "\n",
       "  Risk_Hysterectomy_Oophorectomy Risk_Estrogen_Deficiency Risk_Immobilization  \\\n",
       "0                              N                        N                   N   \n",
       "1                              N                        N                   N   \n",
       "2                              N                        N                   N   \n",
       "3                              N                        N                   N   \n",
       "4                              N                        N                   N   \n",
       "\n",
       "  Risk_Recurring_Falls Count_Of_Risks  \n",
       "0                    N              0  \n",
       "1                    N              0  \n",
       "2                    N              2  \n",
       "3                    N              1  \n",
       "4                    N              1  \n",
       "\n",
       "[5 rows x 69 columns]"
      ]
     },
     "execution_count": 74,
     "metadata": {},
     "output_type": "execute_result"
    }
   ],
   "source": [
    "health_df = pd.read_excel('Healthcare_dataset.xlsx',sheet_name='Dataset')\n",
    "health_df.head()"
   ]
  },
  {
   "cell_type": "code",
   "execution_count": 75,
   "id": "3606c518",
   "metadata": {},
   "outputs": [
    {
     "data": {
      "text/plain": [
       "(3424, 69)"
      ]
     },
     "execution_count": 75,
     "metadata": {},
     "output_type": "execute_result"
    }
   ],
   "source": [
    "health_df.shape"
   ]
  },
  {
   "cell_type": "code",
   "execution_count": 76,
   "id": "c905dbbb",
   "metadata": {},
   "outputs": [
    {
     "name": "stdout",
     "output_type": "stream",
     "text": [
      "<class 'pandas.core.frame.DataFrame'>\n",
      "RangeIndex: 3424 entries, 0 to 3423\n",
      "Data columns (total 69 columns):\n",
      " #   Column                                                              Non-Null Count  Dtype \n",
      "---  ------                                                              --------------  ----- \n",
      " 0   Ptid                                                                3424 non-null   object\n",
      " 1   Persistency_Flag                                                    3424 non-null   object\n",
      " 2   Gender                                                              3424 non-null   object\n",
      " 3   Race                                                                3424 non-null   object\n",
      " 4   Ethnicity                                                           3424 non-null   object\n",
      " 5   Region                                                              3424 non-null   object\n",
      " 6   Age_Bucket                                                          3424 non-null   object\n",
      " 7   Ntm_Speciality                                                      3424 non-null   object\n",
      " 8   Ntm_Specialist_Flag                                                 3424 non-null   object\n",
      " 9   Ntm_Speciality_Bucket                                               3424 non-null   object\n",
      " 10  Gluco_Record_Prior_Ntm                                              3424 non-null   object\n",
      " 11  Gluco_Record_During_Rx                                              3424 non-null   object\n",
      " 12  Dexa_Freq_During_Rx                                                 3424 non-null   int64 \n",
      " 13  Dexa_During_Rx                                                      3424 non-null   object\n",
      " 14  Frag_Frac_Prior_Ntm                                                 3424 non-null   object\n",
      " 15  Frag_Frac_During_Rx                                                 3424 non-null   object\n",
      " 16  Risk_Segment_Prior_Ntm                                              3424 non-null   object\n",
      " 17  Tscore_Bucket_Prior_Ntm                                             3424 non-null   object\n",
      " 18  Risk_Segment_During_Rx                                              3424 non-null   object\n",
      " 19  Tscore_Bucket_During_Rx                                             3424 non-null   object\n",
      " 20  Change_T_Score                                                      3424 non-null   object\n",
      " 21  Change_Risk_Segment                                                 3424 non-null   object\n",
      " 22  Adherent_Flag                                                       3424 non-null   object\n",
      " 23  Idn_Indicator                                                       3424 non-null   object\n",
      " 24  Injectable_Experience_During_Rx                                     3424 non-null   object\n",
      " 25  Comorb_Encounter_For_Screening_For_Malignant_Neoplasms              3424 non-null   object\n",
      " 26  Comorb_Encounter_For_Immunization                                   3424 non-null   object\n",
      " 27  Comorb_Encntr_For_General_Exam_W_O_Complaint,_Susp_Or_Reprtd_Dx     3424 non-null   object\n",
      " 28  Comorb_Vitamin_D_Deficiency                                         3424 non-null   object\n",
      " 29  Comorb_Other_Joint_Disorder_Not_Elsewhere_Classified                3424 non-null   object\n",
      " 30  Comorb_Encntr_For_Oth_Sp_Exam_W_O_Complaint_Suspected_Or_Reprtd_Dx  3424 non-null   object\n",
      " 31  Comorb_Long_Term_Current_Drug_Therapy                               3424 non-null   object\n",
      " 32  Comorb_Dorsalgia                                                    3424 non-null   object\n",
      " 33  Comorb_Personal_History_Of_Other_Diseases_And_Conditions            3424 non-null   object\n",
      " 34  Comorb_Other_Disorders_Of_Bone_Density_And_Structure                3424 non-null   object\n",
      " 35  Comorb_Disorders_of_lipoprotein_metabolism_and_other_lipidemias     3424 non-null   object\n",
      " 36  Comorb_Osteoporosis_without_current_pathological_fracture           3424 non-null   object\n",
      " 37  Comorb_Personal_history_of_malignant_neoplasm                       3424 non-null   object\n",
      " 38  Comorb_Gastro_esophageal_reflux_disease                             3424 non-null   object\n",
      " 39  Concom_Cholesterol_And_Triglyceride_Regulating_Preparations         3424 non-null   object\n",
      " 40  Concom_Narcotics                                                    3424 non-null   object\n",
      " 41  Concom_Systemic_Corticosteroids_Plain                               3424 non-null   object\n",
      " 42  Concom_Anti_Depressants_And_Mood_Stabilisers                        3424 non-null   object\n",
      " 43  Concom_Fluoroquinolones                                             3424 non-null   object\n",
      " 44  Concom_Cephalosporins                                               3424 non-null   object\n",
      " 45  Concom_Macrolides_And_Similar_Types                                 3424 non-null   object\n",
      " 46  Concom_Broad_Spectrum_Penicillins                                   3424 non-null   object\n",
      " 47  Concom_Anaesthetics_General                                         3424 non-null   object\n",
      " 48  Concom_Viral_Vaccines                                               3424 non-null   object\n",
      " 49  Risk_Type_1_Insulin_Dependent_Diabetes                              3424 non-null   object\n",
      " 50  Risk_Osteogenesis_Imperfecta                                        3424 non-null   object\n",
      " 51  Risk_Rheumatoid_Arthritis                                           3424 non-null   object\n",
      " 52  Risk_Untreated_Chronic_Hyperthyroidism                              3424 non-null   object\n",
      " 53  Risk_Untreated_Chronic_Hypogonadism                                 3424 non-null   object\n",
      " 54  Risk_Untreated_Early_Menopause                                      3424 non-null   object\n",
      " 55  Risk_Patient_Parent_Fractured_Their_Hip                             3424 non-null   object\n",
      " 56  Risk_Smoking_Tobacco                                                3424 non-null   object\n",
      " 57  Risk_Chronic_Malnutrition_Or_Malabsorption                          3424 non-null   object\n",
      " 58  Risk_Chronic_Liver_Disease                                          3424 non-null   object\n",
      " 59  Risk_Family_History_Of_Osteoporosis                                 3424 non-null   object\n",
      " 60  Risk_Low_Calcium_Intake                                             3424 non-null   object\n",
      " 61  Risk_Vitamin_D_Insufficiency                                        3424 non-null   object\n",
      " 62  Risk_Poor_Health_Frailty                                            3424 non-null   object\n",
      " 63  Risk_Excessive_Thinness                                             3424 non-null   object\n",
      " 64  Risk_Hysterectomy_Oophorectomy                                      3424 non-null   object\n",
      " 65  Risk_Estrogen_Deficiency                                            3424 non-null   object\n",
      " 66  Risk_Immobilization                                                 3424 non-null   object\n",
      " 67  Risk_Recurring_Falls                                                3424 non-null   object\n",
      " 68  Count_Of_Risks                                                      3424 non-null   int64 \n",
      "dtypes: int64(2), object(67)\n",
      "memory usage: 1.8+ MB\n"
     ]
    }
   ],
   "source": [
    "health_df.info()"
   ]
  },
  {
   "cell_type": "markdown",
   "id": "43793803",
   "metadata": {},
   "source": [
    "##### There are only 2 numeric columns and remaining are categorical"
   ]
  },
  {
   "cell_type": "markdown",
   "id": "4ab29ff9",
   "metadata": {},
   "source": [
    "### Check for null values"
   ]
  },
  {
   "cell_type": "code",
   "execution_count": 77,
   "id": "b94ccb35",
   "metadata": {},
   "outputs": [
    {
     "data": {
      "text/plain": [
       "0"
      ]
     },
     "execution_count": 77,
     "metadata": {},
     "output_type": "execute_result"
    }
   ],
   "source": [
    "health_df.isnull().sum().sum()"
   ]
  },
  {
   "cell_type": "code",
   "execution_count": 78,
   "id": "182dffa8",
   "metadata": {},
   "outputs": [
    {
     "data": {
      "text/plain": [
       "Ptid                              0\n",
       "Persistency_Flag                  0\n",
       "Gender                            0\n",
       "Race                              0\n",
       "Ethnicity                         0\n",
       "                                 ..\n",
       "Risk_Hysterectomy_Oophorectomy    0\n",
       "Risk_Estrogen_Deficiency          0\n",
       "Risk_Immobilization               0\n",
       "Risk_Recurring_Falls              0\n",
       "Count_Of_Risks                    0\n",
       "Length: 69, dtype: int64"
      ]
     },
     "execution_count": 78,
     "metadata": {},
     "output_type": "execute_result"
    }
   ],
   "source": [
    "health_df.isnull().sum()"
   ]
  },
  {
   "cell_type": "markdown",
   "id": "099ff261",
   "metadata": {},
   "source": [
    "### Check for duplicate values"
   ]
  },
  {
   "cell_type": "code",
   "execution_count": 79,
   "id": "e8d4380a",
   "metadata": {},
   "outputs": [
    {
     "data": {
      "text/plain": [
       "0"
      ]
     },
     "execution_count": 79,
     "metadata": {},
     "output_type": "execute_result"
    }
   ],
   "source": [
    "health_df.duplicated().sum()"
   ]
  },
  {
   "cell_type": "markdown",
   "id": "8bb0175e",
   "metadata": {},
   "source": [
    "##### There are no null values in the dataset and no need of handling missing values.\n",
    "##### There are no duplicated data in this dataset."
   ]
  },
  {
   "cell_type": "markdown",
   "id": "11601346",
   "metadata": {},
   "source": [
    "### Understanding the data"
   ]
  },
  {
   "cell_type": "markdown",
   "id": "3443bc2e",
   "metadata": {},
   "source": [
    "#### Target Analysis before transformation"
   ]
  },
  {
   "cell_type": "code",
   "execution_count": 80,
   "id": "10a20793",
   "metadata": {},
   "outputs": [
    {
     "data": {
      "image/png": "[encoded data removed]",
      "text/plain": [
       "<Figure size 640x480 with 1 Axes>"
      ]
     },
     "metadata": {},
     "output_type": "display_data"
    }
   ],
   "source": [
    "import matplotlib.pyplot as plt\n",
    "import seaborn as sns\n",
    "import warnings\n",
    "warnings.filterwarnings('ignore')\n",
    "\n",
    "colors = ['#ee684b','#f3d34a']\n",
    "\n",
    "#plot the pie chart to understand the percentage of Persistent and Non-Persistent\n",
    "health_df.Persistency_Flag.value_counts().plot.pie(explode=[0,0.1],autopct='%1.1f%%',shadow=True, \n",
    "                                                   colors=colors).set(title='Distribution of Persistency')\n",
    "plt.show()"
   ]
  },
  {
   "cell_type": "markdown",
   "id": "58533fcd",
   "metadata": {},
   "source": [
    "##### There are 37.6% of patients are persistent in taking prescription drugs while 62.4% are non persistent."
   ]
  },
  {
   "cell_type": "markdown",
   "id": "28c901b1",
   "metadata": {},
   "source": [
    "### Understanding correlation between variables"
   ]
  },
  {
   "cell_type": "code",
   "execution_count": 81,
   "id": "b8fdf308",
   "metadata": {},
   "outputs": [
    {
     "data": {
      "text/plain": [
       "<Axes: >"
      ]
     },
     "execution_count": 81,
     "metadata": {},
     "output_type": "execute_result"
    },
    {
     "data": {
      "image/png": "[encoded data removed]",
      "text/plain": [
       "<Figure size 640x480 with 2 Axes>"
      ]
     },
     "metadata": {},
     "output_type": "display_data"
    }
   ],
   "source": [
    "sns.heatmap(health_df.corr(), cmap=\"coolwarm\", annot=True)"
   ]
  },
  {
   "cell_type": "markdown",
   "id": "0be2e3df",
   "metadata": {},
   "source": [
    "#### There are only 2 numeric values Number of DEXA scans taken during Rx and count of risks"
   ]
  },
  {
   "cell_type": "markdown",
   "id": "f84590b3",
   "metadata": {},
   "source": [
    "### Outlier Analysis"
   ]
  },
  {
   "cell_type": "markdown",
   "id": "7871cdf2",
   "metadata": {},
   "source": [
    "#### Now lets do Outlier analysis for 2 numeric columns Dexa_Freq_During_Rx and Count_Of_Risks"
   ]
  },
  {
   "cell_type": "code",
   "execution_count": 82,
   "id": "335140ea",
   "metadata": {},
   "outputs": [
    {
     "data": {
      "text/plain": [
       "Text(0, 0.5, 'Dexa_Freq_During_Rx')"
      ]
     },
     "execution_count": 82,
     "metadata": {},
     "output_type": "execute_result"
    },
    {
     "data": {
      "image/png": "[encoded data removed]",
      "text/plain": [
       "<Figure size 640x480 with 1 Axes>"
      ]
     },
     "metadata": {},
     "output_type": "display_data"
    }
   ],
   "source": [
    "ax=sns.boxplot(health_df['Dexa_Freq_During_Rx'])\n",
    "ax.set_title('Box plot for Dexa_Freq_During_Rx')\n",
    "ax.set_ylabel('Dexa_Freq_During_Rx')"
   ]
  },
  {
   "cell_type": "markdown",
   "id": "2309aeed",
   "metadata": {},
   "source": [
    "#### There are many outliers for Dexa_Freq_During_Rx. So, we can now check to see skewness using Histogram"
   ]
  },
  {
   "cell_type": "code",
   "execution_count": 83,
   "id": "3455b986",
   "metadata": {},
   "outputs": [
    {
     "data": {
      "text/plain": [
       "<Axes: xlabel='Dexa_Freq_During_Rx', ylabel='Count'>"
      ]
     },
     "execution_count": 83,
     "metadata": {},
     "output_type": "execute_result"
    },
    {
     "data": {
      "image/png": "[encoded data removed]",
      "text/plain": [
       "<Figure size 640x480 with 1 Axes>"
      ]
     },
     "metadata": {},
     "output_type": "display_data"
    }
   ],
   "source": [
    "sns.histplot(health_df, x='Dexa_Freq_During_Rx')"
   ]
  },
  {
   "cell_type": "markdown",
   "id": "ad1f32c7",
   "metadata": {},
   "source": [
    "#### We can clearly see that it is not normal distribution and it is right skewed data."
   ]
  },
  {
   "cell_type": "code",
   "execution_count": 84,
   "id": "c0306172",
   "metadata": {},
   "outputs": [
    {
     "data": {
      "text/plain": [
       "(3424, 69)"
      ]
     },
     "execution_count": 84,
     "metadata": {},
     "output_type": "execute_result"
    }
   ],
   "source": [
    "health_df.shape"
   ]
  },
  {
   "cell_type": "markdown",
   "id": "8500903f",
   "metadata": {},
   "source": [
    "### Identifying outliers using IQR and removing them."
   ]
  },
  {
   "cell_type": "code",
   "execution_count": 85,
   "id": "94c834ae",
   "metadata": {},
   "outputs": [
    {
     "name": "stdout",
     "output_type": "stream",
     "text": [
      "New Shape:  (2964, 69)\n"
     ]
    }
   ],
   "source": [
    "Q1 = health_df['Dexa_Freq_During_Rx'].quantile(0.25)\n",
    "Q3 = health_df['Dexa_Freq_During_Rx'].quantile(0.75)\n",
    "IQR = Q3 - Q1\n",
    "lower = Q1 - 1.5*IQR\n",
    "upper = Q3 + 1.5*IQR\n",
    " \n",
    "# Create arrays of Boolean values indicating the outlier rows\n",
    "upper_array = np.where(health_df['Dexa_Freq_During_Rx']>=upper)[0]\n",
    "lower_array = np.where(health_df['Dexa_Freq_During_Rx']<=lower)[0]\n",
    " \n",
    "# Removing the outliers\n",
    "health_df.drop(index=upper_array, inplace=True)\n",
    "health_df.drop(index=lower_array, inplace=True)\n",
    " \n",
    "# Print the new shape of the DataFrame\n",
    "print(\"New Shape: \", health_df.shape)"
   ]
  },
  {
   "cell_type": "markdown",
   "id": "2ad084f6",
   "metadata": {},
   "source": [
    "#### There are 460 outliers for Dexa_Freq_During_Rx and they are removed based on IQR."
   ]
  },
  {
   "cell_type": "code",
   "execution_count": 86,
   "id": "bf85d865",
   "metadata": {},
   "outputs": [
    {
     "data": {
      "text/plain": [
       "Text(0, 0.5, 'Count_Of_Risks')"
      ]
     },
     "execution_count": 86,
     "metadata": {},
     "output_type": "execute_result"
    },
    {
     "data": {
      "image/png": "[encoded data removed]",
      "text/plain": [
       "<Figure size 640x480 with 1 Axes>"
      ]
     },
     "metadata": {},
     "output_type": "display_data"
    }
   ],
   "source": [
    "ax=sns.boxplot(health_df['Count_Of_Risks'])\n",
    "ax.set_title('Box plot for Count_Of_Risks')\n",
    "ax.set_ylabel('Count_Of_Risks')"
   ]
  },
  {
   "cell_type": "markdown",
   "id": "fc5eb553",
   "metadata": {},
   "source": [
    "#### We can clearly see there are only 2 outliers for Count of risks and the records with the values 6 and 7 are outliers."
   ]
  },
  {
   "cell_type": "code",
   "execution_count": 87,
   "id": "11c7b647",
   "metadata": {},
   "outputs": [
    {
     "data": {
      "text/plain": [
       "<Axes: xlabel='Count_Of_Risks', ylabel='Count'>"
      ]
     },
     "execution_count": 87,
     "metadata": {},
     "output_type": "execute_result"
    },
    {
     "data": {
      "image/png": "[encoded data removed]",
      "text/plain": [
       "<Figure size 640x480 with 1 Axes>"
      ]
     },
     "metadata": {},
     "output_type": "display_data"
    }
   ],
   "source": [
    "sns.histplot(health_df, x='Count_Of_Risks')"
   ]
  },
  {
   "cell_type": "markdown",
   "id": "8f0ecc3e",
   "metadata": {},
   "source": [
    "### Remove these outliers with values 6 and 7"
   ]
  },
  {
   "cell_type": "code",
   "execution_count": 88,
   "id": "36c8ece5",
   "metadata": {},
   "outputs": [
    {
     "data": {
      "text/plain": [
       "array([0, 2, 1, 3, 4, 5, 6, 7], dtype=int64)"
      ]
     },
     "execution_count": 88,
     "metadata": {},
     "output_type": "execute_result"
    }
   ],
   "source": [
    "health_df.Count_Of_Risks.unique()"
   ]
  },
  {
   "cell_type": "code",
   "execution_count": 89,
   "id": "aa1c3a62",
   "metadata": {},
   "outputs": [
    {
     "data": {
      "text/plain": [
       "(2956, 69)"
      ]
     },
     "execution_count": 89,
     "metadata": {},
     "output_type": "execute_result"
    }
   ],
   "source": [
    "health_df = health_df[(health_df['Count_Of_Risks'] != 6) & (health_df['Count_Of_Risks'] != 7)]\n",
    "health_df.shape"
   ]
  },
  {
   "cell_type": "markdown",
   "id": "35008078",
   "metadata": {},
   "source": [
    "#### There are 8 outliers for count of risks with values 5,6,7 and which are removed."
   ]
  },
  {
   "cell_type": "markdown",
   "id": "481254f1",
   "metadata": {},
   "source": [
    "### Skewness after removing outliers"
   ]
  },
  {
   "cell_type": "code",
   "execution_count": 90,
   "id": "73a3f5db",
   "metadata": {},
   "outputs": [
    {
     "data": {
      "text/plain": [
       "<Axes: xlabel='Dexa_Freq_During_Rx', ylabel='Count'>"
      ]
     },
     "execution_count": 90,
     "metadata": {},
     "output_type": "execute_result"
    },
    {
     "data": {
      "image/png": "[encoded data removed]",
      "text/plain": [
       "<Figure size 640x480 with 1 Axes>"
      ]
     },
     "metadata": {},
     "output_type": "display_data"
    }
   ],
   "source": [
    "sns.histplot(health_df, x='Dexa_Freq_During_Rx')"
   ]
  },
  {
   "cell_type": "code",
   "execution_count": 91,
   "id": "c760e86a",
   "metadata": {},
   "outputs": [
    {
     "data": {
      "text/plain": [
       "0    2483\n",
       "5     113\n",
       "6     106\n",
       "7      93\n",
       "4      68\n",
       "3      46\n",
       "2      24\n",
       "1      23\n",
       "Name: Dexa_Freq_During_Rx, dtype: int64"
      ]
     },
     "execution_count": 91,
     "metadata": {},
     "output_type": "execute_result"
    }
   ],
   "source": [
    "health_df['Dexa_Freq_During_Rx'].value_counts()"
   ]
  },
  {
   "cell_type": "markdown",
   "id": "3a4e3783",
   "metadata": {},
   "source": [
    "#### They are higher number of records with 0 values, so Dexa_Freq_During_Rx is highly skewed and removing 2483 is not valid. So skewness for Dexa_Freq_During_Rx cannot be reduced. Applying different transformations will also not work for this column."
   ]
  },
  {
   "cell_type": "markdown",
   "id": "64c064a2",
   "metadata": {},
   "source": [
    "#### The skewness is high for Dexa_Freq_During_Rx"
   ]
  },
  {
   "cell_type": "code",
   "execution_count": 92,
   "id": "cdc2925f",
   "metadata": {},
   "outputs": [
    {
     "data": {
      "text/plain": [
       "<Axes: xlabel='Count_Of_Risks', ylabel='Count'>"
      ]
     },
     "execution_count": 92,
     "metadata": {},
     "output_type": "execute_result"
    },
    {
     "data": {
      "image/png": "[encoded data removed]",
      "text/plain": [
       "<Figure size 640x480 with 1 Axes>"
      ]
     },
     "metadata": {},
     "output_type": "display_data"
    }
   ],
   "source": [
    "sns.histplot(health_df, x='Count_Of_Risks')"
   ]
  },
  {
   "cell_type": "code",
   "execution_count": 93,
   "id": "c7a3bedd",
   "metadata": {},
   "outputs": [
    {
     "data": {
      "text/plain": [
       "1    1070\n",
       "0     858\n",
       "2     664\n",
       "3     271\n",
       "4      79\n",
       "5      14\n",
       "Name: Count_Of_Risks, dtype: int64"
      ]
     },
     "execution_count": 93,
     "metadata": {},
     "output_type": "execute_result"
    }
   ],
   "source": [
    "health_df['Count_Of_Risks'].value_counts()"
   ]
  },
  {
   "cell_type": "markdown",
   "id": "eb8df02d",
   "metadata": {},
   "source": [
    "#### Count of risks skewness is reduced. But removing more data values will have data loss and may result in bias in results. So, we are leaving the remaining values."
   ]
  },
  {
   "cell_type": "code",
   "execution_count": 94,
   "id": "141d2c02",
   "metadata": {},
   "outputs": [
    {
     "name": "stdout",
     "output_type": "stream",
     "text": [
      "The highly correlated features are: []\n"
     ]
    }
   ],
   "source": [
    "#Identify highly correlated features\n",
    "import warnings\n",
    "warnings.filterwarnings(\"ignore\")\n",
    "#Create correlation matrix\n",
    "cor_matrix = health_df.corr().abs()\n",
    "#Select upper triangle of correlation matrix\n",
    "upper_tri = cor_matrix.where(np.triu(np.ones(cor_matrix.shape),k=1).astype(np.bool))\n",
    "#Find index of feature columns with correlation greater than 0.7\n",
    "corr_features= [column for column in upper_tri.columns if any(upper_tri[column] > 0.7)]\n",
    "print('The highly correlated features are:',corr_features)"
   ]
  },
  {
   "cell_type": "markdown",
   "id": "b61f36ab",
   "metadata": {},
   "source": [
    "##### There are no highly correlated features so not dropping any columns."
   ]
  },
  {
   "cell_type": "code",
   "execution_count": 95,
   "id": "a80c897c",
   "metadata": {},
   "outputs": [
    {
     "data": {
      "text/plain": [
       "Index(['Ptid', 'Gender', 'Race', 'Ethnicity', 'Region', 'Age_Bucket',\n",
       "       'Ntm_Speciality', 'Ntm_Specialist_Flag', 'Ntm_Speciality_Bucket',\n",
       "       'Gluco_Record_Prior_Ntm', 'Gluco_Record_During_Rx', 'Dexa_During_Rx',\n",
       "       'Frag_Frac_Prior_Ntm', 'Frag_Frac_During_Rx', 'Risk_Segment_Prior_Ntm',\n",
       "       'Tscore_Bucket_Prior_Ntm', 'Risk_Segment_During_Rx',\n",
       "       'Tscore_Bucket_During_Rx', 'Change_T_Score', 'Change_Risk_Segment',\n",
       "       'Adherent_Flag', 'Idn_Indicator', 'Injectable_Experience_During_Rx',\n",
       "       'Comorb_Encounter_For_Screening_For_Malignant_Neoplasms',\n",
       "       'Comorb_Encounter_For_Immunization',\n",
       "       'Comorb_Encntr_For_General_Exam_W_O_Complaint,_Susp_Or_Reprtd_Dx',\n",
       "       'Comorb_Vitamin_D_Deficiency',\n",
       "       'Comorb_Other_Joint_Disorder_Not_Elsewhere_Classified',\n",
       "       'Comorb_Encntr_For_Oth_Sp_Exam_W_O_Complaint_Suspected_Or_Reprtd_Dx',\n",
       "       'Comorb_Long_Term_Current_Drug_Therapy', 'Comorb_Dorsalgia',\n",
       "       'Comorb_Personal_History_Of_Other_Diseases_And_Conditions',\n",
       "       'Comorb_Other_Disorders_Of_Bone_Density_And_Structure',\n",
       "       'Comorb_Disorders_of_lipoprotein_metabolism_and_other_lipidemias',\n",
       "       'Comorb_Osteoporosis_without_current_pathological_fracture',\n",
       "       'Comorb_Personal_history_of_malignant_neoplasm',\n",
       "       'Comorb_Gastro_esophageal_reflux_disease',\n",
       "       'Concom_Cholesterol_And_Triglyceride_Regulating_Preparations',\n",
       "       'Concom_Narcotics', 'Concom_Systemic_Corticosteroids_Plain',\n",
       "       'Concom_Anti_Depressants_And_Mood_Stabilisers',\n",
       "       'Concom_Fluoroquinolones', 'Concom_Cephalosporins',\n",
       "       'Concom_Macrolides_And_Similar_Types',\n",
       "       'Concom_Broad_Spectrum_Penicillins', 'Concom_Anaesthetics_General',\n",
       "       'Concom_Viral_Vaccines', 'Risk_Type_1_Insulin_Dependent_Diabetes',\n",
       "       'Risk_Osteogenesis_Imperfecta', 'Risk_Rheumatoid_Arthritis',\n",
       "       'Risk_Untreated_Chronic_Hyperthyroidism',\n",
       "       'Risk_Untreated_Chronic_Hypogonadism', 'Risk_Untreated_Early_Menopause',\n",
       "       'Risk_Patient_Parent_Fractured_Their_Hip', 'Risk_Smoking_Tobacco',\n",
       "       'Risk_Chronic_Malnutrition_Or_Malabsorption',\n",
       "       'Risk_Chronic_Liver_Disease', 'Risk_Family_History_Of_Osteoporosis',\n",
       "       'Risk_Low_Calcium_Intake', 'Risk_Vitamin_D_Insufficiency',\n",
       "       'Risk_Poor_Health_Frailty', 'Risk_Excessive_Thinness',\n",
       "       'Risk_Hysterectomy_Oophorectomy', 'Risk_Estrogen_Deficiency',\n",
       "       'Risk_Immobilization', 'Risk_Recurring_Falls'],\n",
       "      dtype='object')"
      ]
     },
     "execution_count": 95,
     "metadata": {},
     "output_type": "execute_result"
    }
   ],
   "source": [
    "df_cols = health_df.columns[(health_df.dtypes == 'object') & (health_df.columns!= 'Persistency_Flag')]\n",
    "df_cols"
   ]
  },
  {
   "cell_type": "markdown",
   "id": "a664fe88",
   "metadata": {},
   "source": [
    "### Data Transformation"
   ]
  },
  {
   "cell_type": "markdown",
   "id": "2e1fc300",
   "metadata": {},
   "source": [
    "##### Ptid is patient id and categorical.but is not important to understand factors effecting persistency of a drug. \n",
    "##### This field cannot be used for model building as it is not numeric. Dropping this feature."
   ]
  },
  {
   "cell_type": "code",
   "execution_count": 96,
   "id": "86d4678b",
   "metadata": {},
   "outputs": [],
   "source": [
    "health_df.drop(['Ptid'],axis=1,inplace=True)"
   ]
  },
  {
   "cell_type": "code",
   "execution_count": 97,
   "id": "9ec484fc",
   "metadata": {},
   "outputs": [
    {
     "data": {
      "text/plain": [
       "(2956, 68)"
      ]
     },
     "execution_count": 97,
     "metadata": {},
     "output_type": "execute_result"
    }
   ],
   "source": [
    "health_df.shape"
   ]
  },
  {
   "cell_type": "code",
   "execution_count": 98,
   "id": "3c51684f",
   "metadata": {},
   "outputs": [
    {
     "data": {
      "text/plain": [
       "Female    2782\n",
       "Male       174\n",
       "Name: Gender, dtype: int64"
      ]
     },
     "execution_count": 98,
     "metadata": {},
     "output_type": "execute_result"
    }
   ],
   "source": [
    "health_df['Gender'].value_counts()"
   ]
  },
  {
   "cell_type": "code",
   "execution_count": 99,
   "id": "c67abfc3",
   "metadata": {},
   "outputs": [
    {
     "data": {
      "text/plain": [
       "Caucasian           2715\n",
       "African American      92\n",
       "Other/Unknown         80\n",
       "Asian                 69\n",
       "Name: Race, dtype: int64"
      ]
     },
     "execution_count": 99,
     "metadata": {},
     "output_type": "execute_result"
    }
   ],
   "source": [
    "health_df['Race'].value_counts()"
   ]
  },
  {
   "cell_type": "code",
   "execution_count": 100,
   "id": "82332688",
   "metadata": {},
   "outputs": [
    {
     "data": {
      "text/plain": [
       "Not Hispanic    2797\n",
       "Hispanic          82\n",
       "Unknown           77\n",
       "Name: Ethnicity, dtype: int64"
      ]
     },
     "execution_count": 100,
     "metadata": {},
     "output_type": "execute_result"
    }
   ],
   "source": [
    "health_df['Ethnicity'].value_counts()"
   ]
  },
  {
   "cell_type": "code",
   "execution_count": 101,
   "id": "e2979049",
   "metadata": {},
   "outputs": [
    {
     "data": {
      "text/plain": [
       "Midwest          1212\n",
       "South            1116\n",
       "West              384\n",
       "Northeast         195\n",
       "Other/Unknown      49\n",
       "Name: Region, dtype: int64"
      ]
     },
     "execution_count": 101,
     "metadata": {},
     "output_type": "execute_result"
    }
   ],
   "source": [
    "health_df['Region'].value_counts()"
   ]
  },
  {
   "cell_type": "code",
   "execution_count": 102,
   "id": "522b4ae9",
   "metadata": {},
   "outputs": [
    {
     "data": {
      "text/plain": [
       ">75      1264\n",
       "65-75     921\n",
       "55-65     624\n",
       "<55       147\n",
       "Name: Age_Bucket, dtype: int64"
      ]
     },
     "execution_count": 102,
     "metadata": {},
     "output_type": "execute_result"
    }
   ],
   "source": [
    "health_df['Age_Bucket'].value_counts()"
   ]
  },
  {
   "cell_type": "code",
   "execution_count": 103,
   "id": "0a52ca0e",
   "metadata": {},
   "outputs": [
    {
     "data": {
      "text/plain": [
       "Y    2212\n",
       "N     744\n",
       "Name: Idn_Indicator, dtype: int64"
      ]
     },
     "execution_count": 103,
     "metadata": {},
     "output_type": "execute_result"
    }
   ],
   "source": [
    "health_df['Idn_Indicator'].value_counts()"
   ]
  },
  {
   "cell_type": "code",
   "execution_count": 104,
   "id": "c9fc9f52",
   "metadata": {},
   "outputs": [
    {
     "data": {
      "text/plain": [
       "GENERAL PRACTITIONER                                              1350\n",
       "RHEUMATOLOGY                                                       510\n",
       "ENDOCRINOLOGY                                                      367\n",
       "Unknown                                                            284\n",
       "ONCOLOGY                                                           187\n",
       "OBSTETRICS AND GYNECOLOGY                                           80\n",
       "UROLOGY                                                             30\n",
       "ORTHOPEDIC SURGERY                                                  26\n",
       "CARDIOLOGY                                                          21\n",
       "OTOLARYNGOLOGY                                                      13\n",
       "PATHOLOGY                                                           13\n",
       "HEMATOLOGY & ONCOLOGY                                               12\n",
       "PHYSICAL MEDICINE AND REHABILITATION                                11\n",
       "PEDIATRICS                                                           9\n",
       "SURGERY AND SURGICAL SPECIALTIES                                     8\n",
       "PULMONARY MEDICINE                                                   7\n",
       "PSYCHIATRY AND NEUROLOGY                                             3\n",
       "PLASTIC SURGERY                                                      2\n",
       "VASCULAR SURGERY                                                     2\n",
       "ORTHOPEDICS                                                          2\n",
       "HOSPICE AND PALLIATIVE MEDICINE                                      2\n",
       "GERIATRIC MEDICINE                                                   2\n",
       "GASTROENTEROLOGY                                                     2\n",
       "TRANSPLANT SURGERY                                                   2\n",
       "CLINICAL NURSE SPECIALIST                                            1\n",
       "OCCUPATIONAL MEDICINE                                                1\n",
       "HOSPITAL MEDICINE                                                    1\n",
       "NEPHROLOGY                                                           1\n",
       "OPHTHALMOLOGY                                                        1\n",
       "PODIATRY                                                             1\n",
       "EMERGENCY MEDICINE                                                   1\n",
       "OBSTETRICS & OBSTETRICS & GYNECOLOGY & OBSTETRICS & GYNECOLOGY       1\n",
       "RADIOLOGY                                                            1\n",
       "PAIN MEDICINE                                                        1\n",
       "NUCLEAR MEDICINE                                                     1\n",
       "Name: Ntm_Speciality, dtype: int64"
      ]
     },
     "execution_count": 104,
     "metadata": {},
     "output_type": "execute_result"
    }
   ],
   "source": [
    "health_df['Ntm_Speciality'].value_counts()"
   ]
  },
  {
   "cell_type": "code",
   "execution_count": 105,
   "id": "87c6fa8d",
   "metadata": {},
   "outputs": [
    {
     "data": {
      "text/plain": [
       "Others        1781\n",
       "Specialist    1175\n",
       "Name: Ntm_Specialist_Flag, dtype: int64"
      ]
     },
     "execution_count": 105,
     "metadata": {},
     "output_type": "execute_result"
    }
   ],
   "source": [
    "health_df['Ntm_Specialist_Flag'].value_counts()"
   ]
  },
  {
   "cell_type": "code",
   "execution_count": 106,
   "id": "9836dada",
   "metadata": {},
   "outputs": [
    {
     "data": {
      "text/plain": [
       "OB/GYN/Others/PCP/Unknown    1862\n",
       "Endo/Onc/Uro                  584\n",
       "Rheum                         510\n",
       "Name: Ntm_Speciality_Bucket, dtype: int64"
      ]
     },
     "execution_count": 106,
     "metadata": {},
     "output_type": "execute_result"
    }
   ],
   "source": [
    "health_df['Ntm_Speciality_Bucket'].value_counts()"
   ]
  },
  {
   "cell_type": "code",
   "execution_count": 107,
   "id": "cf0b7c42",
   "metadata": {},
   "outputs": [
    {
     "data": {
      "text/plain": [
       ">-2.5     1695\n",
       "<=-2.5    1261\n",
       "Name: Tscore_Bucket_Prior_Ntm, dtype: int64"
      ]
     },
     "execution_count": 107,
     "metadata": {},
     "output_type": "execute_result"
    }
   ],
   "source": [
    "health_df['Tscore_Bucket_Prior_Ntm'].value_counts()"
   ]
  },
  {
   "cell_type": "code",
   "execution_count": 108,
   "id": "0fa0e89c",
   "metadata": {},
   "outputs": [
    {
     "data": {
      "text/plain": [
       "No change    1397\n",
       "Unknown      1365\n",
       "Worsened      134\n",
       "Improved       60\n",
       "Name: Change_T_Score, dtype: int64"
      ]
     },
     "execution_count": 108,
     "metadata": {},
     "output_type": "execute_result"
    }
   ],
   "source": [
    "health_df['Change_T_Score'].value_counts()"
   ]
  },
  {
   "cell_type": "code",
   "execution_count": 109,
   "id": "14ca0449",
   "metadata": {},
   "outputs": [
    {
     "data": {
      "text/plain": [
       "VLR_LR    1682\n",
       "HR_VHR    1274\n",
       "Name: Risk_Segment_Prior_Ntm, dtype: int64"
      ]
     },
     "execution_count": 109,
     "metadata": {},
     "output_type": "execute_result"
    }
   ],
   "source": [
    "health_df['Risk_Segment_Prior_Ntm'].value_counts()"
   ]
  },
  {
   "cell_type": "code",
   "execution_count": 110,
   "id": "658a41d3",
   "metadata": {},
   "outputs": [
    {
     "data": {
      "text/plain": [
       "Unknown      1977\n",
       "No change     869\n",
       "Worsened       95\n",
       "Improved       15\n",
       "Name: Change_Risk_Segment, dtype: int64"
      ]
     },
     "execution_count": 110,
     "metadata": {},
     "output_type": "execute_result"
    }
   ],
   "source": [
    "health_df['Change_Risk_Segment'].value_counts()"
   ]
  },
  {
   "cell_type": "code",
   "execution_count": 111,
   "id": "3ceee1a4",
   "metadata": {},
   "outputs": [
    {
     "data": {
      "text/plain": [
       "Unknown    1365\n",
       "VLR_LR      802\n",
       "HR_VHR      789\n",
       "Name: Risk_Segment_During_Rx, dtype: int64"
      ]
     },
     "execution_count": 111,
     "metadata": {},
     "output_type": "execute_result"
    }
   ],
   "source": [
    "health_df['Risk_Segment_During_Rx'].value_counts()"
   ]
  },
  {
   "cell_type": "code",
   "execution_count": 112,
   "id": "98c334c3",
   "metadata": {},
   "outputs": [
    {
     "data": {
      "text/plain": [
       "N    2483\n",
       "Y     473\n",
       "Name: Dexa_During_Rx, dtype: int64"
      ]
     },
     "execution_count": 112,
     "metadata": {},
     "output_type": "execute_result"
    }
   ],
   "source": [
    "health_df['Dexa_During_Rx'].value_counts()"
   ]
  },
  {
   "cell_type": "code",
   "execution_count": 113,
   "id": "bdc67e1b",
   "metadata": {},
   "outputs": [
    {
     "data": {
      "text/plain": [
       "N    2505\n",
       "Y     451\n",
       "Name: Frag_Frac_Prior_Ntm, dtype: int64"
      ]
     },
     "execution_count": 113,
     "metadata": {},
     "output_type": "execute_result"
    }
   ],
   "source": [
    "health_df['Frag_Frac_Prior_Ntm'].value_counts()"
   ]
  },
  {
   "cell_type": "code",
   "execution_count": 114,
   "id": "9b583b3f",
   "metadata": {},
   "outputs": [
    {
     "data": {
      "text/plain": [
       "N    2623\n",
       "Y     333\n",
       "Name: Frag_Frac_During_Rx, dtype: int64"
      ]
     },
     "execution_count": 114,
     "metadata": {},
     "output_type": "execute_result"
    }
   ],
   "source": [
    "health_df['Frag_Frac_During_Rx'].value_counts()"
   ]
  },
  {
   "cell_type": "code",
   "execution_count": 115,
   "id": "379aa8c7",
   "metadata": {},
   "outputs": [
    {
     "data": {
      "text/plain": [
       "N    2251\n",
       "Y     705\n",
       "Name: Gluco_Record_Prior_Ntm, dtype: int64"
      ]
     },
     "execution_count": 115,
     "metadata": {},
     "output_type": "execute_result"
    }
   ],
   "source": [
    "health_df['Gluco_Record_Prior_Ntm'].value_counts()"
   ]
  },
  {
   "cell_type": "code",
   "execution_count": 116,
   "id": "851040de",
   "metadata": {},
   "outputs": [
    {
     "data": {
      "text/plain": [
       "N    2216\n",
       "Y     740\n",
       "Name: Gluco_Record_During_Rx, dtype: int64"
      ]
     },
     "execution_count": 116,
     "metadata": {},
     "output_type": "execute_result"
    }
   ],
   "source": [
    "health_df['Gluco_Record_During_Rx'].value_counts()"
   ]
  },
  {
   "cell_type": "code",
   "execution_count": 117,
   "id": "b4100f57",
   "metadata": {},
   "outputs": [
    {
     "data": {
      "text/plain": [
       "Y    2629\n",
       "N     327\n",
       "Name: Injectable_Experience_During_Rx, dtype: int64"
      ]
     },
     "execution_count": 117,
     "metadata": {},
     "output_type": "execute_result"
    }
   ],
   "source": [
    "health_df['Injectable_Experience_During_Rx'].value_counts()"
   ]
  },
  {
   "cell_type": "code",
   "execution_count": 118,
   "id": "7e6f3645",
   "metadata": {},
   "outputs": [
    {
     "data": {
      "text/plain": [
       "Adherent        2821\n",
       "Non-Adherent     135\n",
       "Name: Adherent_Flag, dtype: int64"
      ]
     },
     "execution_count": 118,
     "metadata": {},
     "output_type": "execute_result"
    }
   ],
   "source": [
    "health_df['Adherent_Flag'].value_counts()"
   ]
  },
  {
   "cell_type": "code",
   "execution_count": 119,
   "id": "268d9a51",
   "metadata": {},
   "outputs": [
    {
     "data": {
      "text/plain": [
       "N    2059\n",
       "Y     897\n",
       "Name: Comorb_Vitamin_D_Deficiency, dtype: int64"
      ]
     },
     "execution_count": 119,
     "metadata": {},
     "output_type": "execute_result"
    }
   ],
   "source": [
    "health_df['Comorb_Vitamin_D_Deficiency'].value_counts()"
   ]
  },
  {
   "cell_type": "code",
   "execution_count": 120,
   "id": "15645fbb",
   "metadata": {},
   "outputs": [
    {
     "data": {
      "text/plain": [
       "N    1941\n",
       "Y    1015\n",
       "Name: Concom_Narcotics, dtype: int64"
      ]
     },
     "execution_count": 120,
     "metadata": {},
     "output_type": "execute_result"
    }
   ],
   "source": [
    "health_df['Concom_Narcotics'].value_counts()"
   ]
  },
  {
   "cell_type": "code",
   "execution_count": 121,
   "id": "ed97eb3a",
   "metadata": {},
   "outputs": [
    {
     "data": {
      "text/plain": [
       "N    2832\n",
       "Y     124\n",
       "Name: Risk_Type_1_Insulin_Dependent_Diabetes, dtype: int64"
      ]
     },
     "execution_count": 121,
     "metadata": {},
     "output_type": "execute_result"
    }
   ],
   "source": [
    "health_df['Risk_Type_1_Insulin_Dependent_Diabetes'].value_counts()"
   ]
  },
  {
   "cell_type": "markdown",
   "id": "1e8200bf",
   "metadata": {},
   "source": [
    "##### We can see that most of them 'Y' or 'N' features or have binary values. \n",
    "##### 'Race', 'Ethnicity', 'Region', 'Age_Bucket', 'Ntm_Speciality', 'Ntm_Speciality_Bucket', \n",
    "##### 'Change_T_Score', 'Change_Risk_Segment', 'Risk_Segment_During_Rx' have multiple values."
   ]
  },
  {
   "cell_type": "markdown",
   "id": "b82a4f76",
   "metadata": {},
   "source": [
    "### Mapping Categorical Features"
   ]
  },
  {
   "cell_type": "code",
   "execution_count": 122,
   "id": "a50bdf6a",
   "metadata": {},
   "outputs": [],
   "source": [
    "map_cat={'N':0, 'Y':1}\n",
    "health_df=health_df.replace(map_cat)"
   ]
  },
  {
   "cell_type": "code",
   "execution_count": 123,
   "id": "21f165b4",
   "metadata": {},
   "outputs": [
    {
     "data": {
      "text/plain": [
       "Index(['Gender', 'Race', 'Ethnicity', 'Region', 'Age_Bucket', 'Ntm_Speciality',\n",
       "       'Ntm_Specialist_Flag', 'Ntm_Speciality_Bucket',\n",
       "       'Risk_Segment_Prior_Ntm', 'Tscore_Bucket_Prior_Ntm',\n",
       "       'Risk_Segment_During_Rx', 'Tscore_Bucket_During_Rx', 'Change_T_Score',\n",
       "       'Change_Risk_Segment', 'Adherent_Flag'],\n",
       "      dtype='object')"
      ]
     },
     "execution_count": 123,
     "metadata": {},
     "output_type": "execute_result"
    }
   ],
   "source": [
    "df_cols = health_df.columns[(health_df.dtypes == 'object') & (health_df.columns!= 'Persistency_Flag')]\n",
    "df_cols"
   ]
  },
  {
   "cell_type": "code",
   "execution_count": 124,
   "id": "78b46272",
   "metadata": {},
   "outputs": [
    {
     "data": {
      "text/plain": [
       "Female    2782\n",
       "Male       174\n",
       "Name: Gender, dtype: int64"
      ]
     },
     "execution_count": 124,
     "metadata": {},
     "output_type": "execute_result"
    }
   ],
   "source": [
    "health_df['Gender'].value_counts()"
   ]
  },
  {
   "cell_type": "markdown",
   "id": "65d2f659",
   "metadata": {},
   "source": [
    "##### Females are high, so lets map Female as 0 and Male as 1"
   ]
  },
  {
   "cell_type": "code",
   "execution_count": 125,
   "id": "fae14710",
   "metadata": {},
   "outputs": [],
   "source": [
    "map_g = {'Female':0, \n",
    "            'Male':1,\n",
    "          }\n",
    "health_df['Gender'] = health_df['Gender'].replace(map_g)\n",
    "health_df['Gender']=health_df['Gender'].astype(int)"
   ]
  },
  {
   "cell_type": "code",
   "execution_count": 126,
   "id": "98191e73",
   "metadata": {},
   "outputs": [
    {
     "data": {
      "text/plain": [
       "Others        1781\n",
       "Specialist    1175\n",
       "Name: Ntm_Specialist_Flag, dtype: int64"
      ]
     },
     "execution_count": 126,
     "metadata": {},
     "output_type": "execute_result"
    }
   ],
   "source": [
    "health_df['Ntm_Specialist_Flag'].value_counts()"
   ]
  },
  {
   "cell_type": "code",
   "execution_count": 127,
   "id": "0aaf5d4a",
   "metadata": {},
   "outputs": [],
   "source": [
    "map_s = {'Others':0, \n",
    "            'Specialist':1,\n",
    "          }\n",
    "health_df['Ntm_Specialist_Flag'] = health_df['Ntm_Specialist_Flag'].replace(map_s)\n",
    "health_df['Ntm_Specialist_Flag']=health_df['Ntm_Specialist_Flag'].astype(int)"
   ]
  },
  {
   "cell_type": "code",
   "execution_count": 128,
   "id": "929d225f",
   "metadata": {},
   "outputs": [
    {
     "data": {
      "text/plain": [
       "Adherent        2821\n",
       "Non-Adherent     135\n",
       "Name: Adherent_Flag, dtype: int64"
      ]
     },
     "execution_count": 128,
     "metadata": {},
     "output_type": "execute_result"
    }
   ],
   "source": [
    "health_df['Adherent_Flag'].value_counts()"
   ]
  },
  {
   "cell_type": "code",
   "execution_count": 129,
   "id": "553d20a1",
   "metadata": {},
   "outputs": [],
   "source": [
    "map_a = {'Non-Adherent':0, \n",
    "            'Adherent':1,\n",
    "          }\n",
    "health_df['Adherent_Flag'] = health_df['Adherent_Flag'].replace(map_a)\n",
    "health_df['Adherent_Flag']=health_df['Adherent_Flag'].astype(int)"
   ]
  },
  {
   "cell_type": "markdown",
   "id": "b313d9bc",
   "metadata": {},
   "source": [
    "### One Hot encoding"
   ]
  },
  {
   "cell_type": "code",
   "execution_count": 130,
   "id": "c863db74",
   "metadata": {},
   "outputs": [
    {
     "data": {
      "text/plain": [
       "Index(['Race', 'Ethnicity', 'Region', 'Age_Bucket', 'Ntm_Speciality',\n",
       "       'Ntm_Speciality_Bucket', 'Risk_Segment_Prior_Ntm',\n",
       "       'Tscore_Bucket_Prior_Ntm', 'Risk_Segment_During_Rx',\n",
       "       'Tscore_Bucket_During_Rx', 'Change_T_Score', 'Change_Risk_Segment'],\n",
       "      dtype='object')"
      ]
     },
     "execution_count": 130,
     "metadata": {},
     "output_type": "execute_result"
    }
   ],
   "source": [
    "df_cols = health_df.columns[(health_df.dtypes == 'object') & (health_df.columns!= 'Persistency_Flag')]\n",
    "df_cols"
   ]
  },
  {
   "cell_type": "code",
   "execution_count": 131,
   "id": "b0835a2a",
   "metadata": {},
   "outputs": [],
   "source": [
    "#One hot encoding on multiple categorical columns using get_dummies()\n",
    "cols=pd.get_dummies(health_df,columns=['Race', 'Ethnicity', 'Region', 'Age_Bucket', 'Ntm_Speciality',\n",
    "       'Ntm_Speciality_Bucket', 'Risk_Segment_Prior_Ntm',\n",
    "       'Tscore_Bucket_Prior_Ntm', 'Risk_Segment_During_Rx',\n",
    "       'Tscore_Bucket_During_Rx', 'Change_T_Score', 'Change_Risk_Segment'],\n",
    "                    prefix=['Race', 'Ethnicity', 'Region', 'Age_Bucket', 'Ntm_Speciality',\n",
    "       'Ntm_Speciality_Bucket', 'Risk_Segment_Prior_Ntm',\n",
    "       'Tscore_Bucket_Prior_Ntm', 'Risk_Segment_During_Rx',\n",
    "       'Tscore_Bucket_During_Rx', 'Change_T_Score', 'Change_Risk_Segment'])\n",
    "health_df[cols.columns]=cols\n",
    "health_df.drop(['Race', 'Ethnicity', 'Region', 'Age_Bucket', 'Ntm_Speciality',\n",
    "       'Ntm_Speciality_Bucket', 'Risk_Segment_Prior_Ntm',\n",
    "       'Tscore_Bucket_Prior_Ntm', 'Risk_Segment_During_Rx',\n",
    "       'Tscore_Bucket_During_Rx', 'Change_T_Score', 'Change_Risk_Segment'],axis=1,inplace=True)"
   ]
  },
  {
   "cell_type": "code",
   "execution_count": 132,
   "id": "9f2498d9",
   "metadata": {},
   "outputs": [
    {
     "data": {
      "text/plain": [
       "Index([], dtype='object')"
      ]
     },
     "execution_count": 132,
     "metadata": {},
     "output_type": "execute_result"
    }
   ],
   "source": [
    "df_cols = health_df.columns[(health_df.dtypes == 'object') & (health_df.columns!= 'Persistency_Flag')]\n",
    "df_cols"
   ]
  },
  {
   "cell_type": "markdown",
   "id": "4e3384cb",
   "metadata": {},
   "source": [
    "#### Convert Persistency_Flag to numeric"
   ]
  },
  {
   "cell_type": "code",
   "execution_count": 133,
   "id": "31b1020d",
   "metadata": {},
   "outputs": [
    {
     "data": {
      "text/plain": [
       "Non-Persistent    2053\n",
       "Persistent         903\n",
       "Name: Persistency_Flag, dtype: int64"
      ]
     },
     "execution_count": 133,
     "metadata": {},
     "output_type": "execute_result"
    }
   ],
   "source": [
    "health_df['Persistency_Flag'].value_counts()"
   ]
  },
  {
   "cell_type": "code",
   "execution_count": 134,
   "id": "eeb16811",
   "metadata": {},
   "outputs": [],
   "source": [
    "map_p = {'Non-Persistent':0, \n",
    "            'Persistent':1,\n",
    "          }\n",
    "health_df['Persistency_Flag'] = health_df['Persistency_Flag'].replace(map_p)\n",
    "health_df['Persistency_Flag']=health_df['Persistency_Flag'].astype(int)"
   ]
  },
  {
   "cell_type": "code",
   "execution_count": 135,
   "id": "7ced851d",
   "metadata": {},
   "outputs": [
    {
     "data": {
      "text/plain": [
       "Index([], dtype='object')"
      ]
     },
     "execution_count": 135,
     "metadata": {},
     "output_type": "execute_result"
    }
   ],
   "source": [
    "df_cols = health_df.columns[(health_df.dtypes == 'object')]\n",
    "df_cols"
   ]
  },
  {
   "cell_type": "markdown",
   "id": "c3f74209",
   "metadata": {},
   "source": [
    "### Target Analysis after transformation"
   ]
  },
  {
   "cell_type": "code",
   "execution_count": 136,
   "id": "ffac6d46",
   "metadata": {},
   "outputs": [
    {
     "data": {
      "image/png": "[encoded data removed]",
      "text/plain": [
       "<Figure size 640x480 with 1 Axes>"
      ]
     },
     "metadata": {},
     "output_type": "display_data"
    }
   ],
   "source": [
    "import matplotlib.pyplot as plt\n",
    "import seaborn as sns\n",
    "import warnings\n",
    "warnings.filterwarnings('ignore')\n",
    "\n",
    "colors = ['#ee684b','#f3d34a']\n",
    "\n",
    "#plot the pie chart to understand the percentage of Persistent and Non-Persistent\n",
    "health_df.Persistency_Flag.value_counts().plot.pie(explode=[0,0.1],autopct='%1.1f%%',shadow=True, \n",
    "                                                   colors=colors).set(title='Distribution of Persistency')\n",
    "plt.show()"
   ]
  },
  {
   "cell_type": "markdown",
   "id": "4cdf1c7b",
   "metadata": {},
   "source": [
    "##### Now all features are converted to numeric values for model building"
   ]
  },
  {
   "cell_type": "markdown",
   "id": "928b7fd4",
   "metadata": {},
   "source": [
    "### Standardization and Train/Test Split"
   ]
  },
  {
   "cell_type": "code",
   "execution_count": 137,
   "id": "73efd441",
   "metadata": {},
   "outputs": [],
   "source": [
    "from pandas.plotting import scatter_matrix\n",
    "from sklearn.preprocessing import MinMaxScaler\n",
    "from sklearn.model_selection import train_test_split\n",
    "from sklearn.model_selection import GridSearchCV\n",
    "X=health_df.drop('Persistency_Flag',axis=1)\n",
    "Y=health_df['Persistency_Flag']\n",
    "#split into train and test datasets.\n",
    "X_train_org,X_test_org,Y_train,Y_test=train_test_split(X,Y,train_size=0.70, random_state=0)\n",
    "#normalize dataset using MinMaxScaler()\n",
    "scaler=MinMaxScaler()\n",
    "#apply the scale to fit and transform test and train sets\n",
    "X_train=pd.DataFrame(scaler.fit_transform(X_train_org),columns=X_train_org.columns)\n",
    "X_test=pd.DataFrame(scaler.transform(X_test_org),columns=X_test_org.columns)"
   ]
  },
  {
   "cell_type": "code",
   "execution_count": null,
   "id": "0d95743e",
   "metadata": {},
   "outputs": [],
   "source": []
  }
 ],
 "metadata": {
  "kernelspec": {
   "display_name": "Python 3 (ipykernel)",
   "language": "python",
   "name": "python3"
  },
  "language_info": {
   "codemirror_mode": {
    "name": "ipython",
    "version": 3
   },
   "file_extension": ".py",
   "mimetype": "text/x-python",
   "name": "python",
   "nbconvert_exporter": "python",
   "pygments_lexer": "ipython3",
   "version": "3.10.9"
  }
 },
 "nbformat": 4,
 "nbformat_minor": 5
}
